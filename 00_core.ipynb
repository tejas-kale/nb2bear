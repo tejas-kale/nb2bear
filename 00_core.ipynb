{
 "cells": [
  {
   "cell_type": "code",
   "execution_count": null,
   "metadata": {},
   "outputs": [],
   "source": [
    "# default_exp core"
   ]
  },
  {
   "cell_type": "markdown",
   "metadata": {},
   "source": [
    "# nb2bear\n",
    "\n",
    "> A package to convert a Jupyter notebook to a Bear page."
   ]
  },
  {
   "cell_type": "code",
   "execution_count": null,
   "metadata": {},
   "outputs": [],
   "source": [
    "#hide\n",
    "from fastcore.basics import patch\n",
    "from fastcore.test import *\n",
    "from nbdev.showdoc import *\n",
    "\n",
    "import os\n",
    "import re"
   ]
  },
  {
   "cell_type": "code",
   "execution_count": null,
   "metadata": {},
   "outputs": [],
   "source": [
    "# export\n",
    "def say_hello(to: str) -> str:\n",
    "    \"\"\"Say hello to `to`.\"\"\"\n",
    "    return f\"Hello {to}!\""
   ]
  },
  {
   "cell_type": "code",
   "execution_count": null,
   "metadata": {},
   "outputs": [
    {
     "data": {
      "text/plain": "'Hello Tejas!'"
     },
     "execution_count": null,
     "metadata": {},
     "output_type": "execute_result"
    }
   ],
   "source": [
    "say_hello(\"Tejas\")"
   ]
  },
  {
   "cell_type": "code",
   "execution_count": null,
   "metadata": {},
   "outputs": [],
   "source": [
    "test_eq(say_hello(\"Tejas\"), \"Hello Tejas!\")"
   ]
  },
  {
   "cell_type": "code",
   "execution_count": null,
   "metadata": {},
   "outputs": [],
   "source": [
    "#export\n",
    "# class NB2Bear():\n",
    "#     def __init__(self):\n",
    "#         pass"
   ]
  },
  {
   "cell_type": "code",
   "execution_count": null,
   "metadata": {},
   "outputs": [],
   "source": [
    "#export\n",
    "# @patch\n",
    "# def load_notebook(self, nb_fn: str) -> list:\n",
    "#     \"\"\"Load Jupyter notebook in Markdown format.\"\"\"\n",
    "#     nbc_out: str = os.popen(f\"jupyter nbconvert --to markdown {nb_fn} --stdout\").read()\n",
    "#     nb_contents: list = nbc_out.splitlines()\n",
    "#\n",
    "#     return nb_contents"
   ]
  }
 ],
 "metadata": {
  "kernelspec": {
   "display_name": "Python 3",
   "language": "python",
   "name": "python3"
  }
 },
 "nbformat": 4,
 "nbformat_minor": 2
}
