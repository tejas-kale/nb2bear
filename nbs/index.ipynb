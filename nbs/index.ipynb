{
 "cells": [
  {
   "cell_type": "code",
   "execution_count": null,
   "metadata": {},
   "outputs": [],
   "source": [
    "#hide\n",
    "from nb2bear import *"
   ]
  },
  {
   "cell_type": "markdown",
   "metadata": {},
   "source": [
    "# nb2bear\n",
    "\n",
    "> Package to convert a Jupyter notebook to a Bear note."
   ]
  },
  {
   "cell_type": "markdown",
   "metadata": {},
   "source": [
    "[Bear](https://bear.app) is a popular note-taking app on Mac which also serves as an excellent knowledge base. Analysts\n",
    "and data scientists often use Jupyter notebooks for exploring data and models. But when we have notebooks scattered\n",
    "across multiple projects, it can be tedious to search them without explicitly starting a Jupyter server or running a\n",
    "`nbviewer` server.\n",
    "\n",
    "The aim of this package is to add a Jupyter notebook as a Bear note with the appropriate formatting. It makes use of\n",
    "Bear's x-callback-url API for this purpose.\n",
    "\n",
    "*Note: Due to current restrictions in Bear's API and the sandboxed nature of Mac apps, the package cannot automatically\n",
    "import images into the note.*"
   ]
  },
  {
   "cell_type": "markdown",
   "metadata": {},
   "source": [
    "## Install"
   ]
  },
  {
   "cell_type": "markdown",
   "metadata": {},
   "source": [
    "`pip install nb2bear`"
   ]
  },
  {
   "cell_type": "markdown",
   "metadata": {},
   "source": [
    "## How to use"
   ]
  },
  {
   "cell_type": "markdown",
   "metadata": {},
   "source": [
    "### As a library"
   ]
  },
  {
   "cell_type": "code",
   "execution_count": null,
   "metadata": {},
   "outputs": [],
   "source": [
    "from nb2bear import convert_nb_to_bear\n",
    "nb_file_path: str = \"./assets/demo.ipynb\"\n",
    "bear_api_token: str = \"D11B63-D71E64-DE9400\"\n",
    "convert_nb_to_bear(nb_file_path, bear_api_token)"
   ]
  },
  {
   "cell_type": "code",
   "execution_count": null,
   "metadata": {},
   "outputs": [],
   "source": []
  }
 ],
 "metadata": {
  "kernelspec": {
   "display_name": "Python 3",
   "language": "python",
   "name": "python3"
  }
 },
 "nbformat": 4,
 "nbformat_minor": 2
}
