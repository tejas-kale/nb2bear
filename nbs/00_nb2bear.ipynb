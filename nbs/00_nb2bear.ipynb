{
 "cells": [
  {
   "cell_type": "code",
   "execution_count": null,
   "metadata": {},
   "outputs": [],
   "source": [
    "# default_exp nb2bear"
   ]
  },
  {
   "cell_type": "markdown",
   "metadata": {},
   "source": [
    "# nb2bear\n",
    "\n",
    "> A package to convert a Jupyter notebook to a Bear page.̋"
   ]
  },
  {
   "cell_type": "markdown",
   "metadata": {},
   "source": [
    "I use Jupyter notebooks for my data science projects. Bear is a general note-taking\n",
    " app that I prefer as my personal knowledge repository. While notebooks are\n",
    " excellent for exploration and development, it is easy to view them without\n",
    " starting a Jupyter server. So the intention of this tool is to format a Jupyter\n",
    " notebook into a Markdown document that gets properly rendered in Bear."
   ]
  },
  {
   "cell_type": "code",
   "execution_count": null,
   "metadata": {},
   "outputs": [],
   "source": [
    "# hide\n",
    "from nbdev.showdoc import *"
   ]
  },
  {
   "cell_type": "code",
   "execution_count": null,
   "metadata": {},
   "outputs": [],
   "source": [
    "# export\n",
    "# hide\n",
    "from bs4 import BeautifulSoup\n",
    "from fastcore.test import *\n",
    "from nbconvert import MarkdownExporter\n",
    "from urllib.request import urlopen\n",
    "from urllib.parse import quote\n",
    "from typing import Union\n",
    "\n",
    "import argparse\n",
    "import bs4\n",
    "import json\n",
    "import markdown2\n",
    "import nbformat\n",
    "import os\n",
    "import re"
   ]
  },
  {
   "cell_type": "code",
   "execution_count": null,
   "metadata": {},
   "outputs": [],
   "source": [
    "# hide\n",
    "%load_ext autoreload\n",
    "%autoreload 2"
   ]
  },
  {
   "cell_type": "markdown",
   "metadata": {},
   "source": [
    "## Reading a notebook"
   ]
  },
  {
   "cell_type": "markdown",
   "metadata": {},
   "source": [
    "We use a handful of regular expressions to format the contents of the notebook. In addition, this package includes the\n",
    "`xcall` application which is used to call the x-callback URLs supported by Bear's API. The API token is needed to\n",
    "delete any existing notes with the same title.\n",
    "\n",
    "The regular expression for finding italics text comes with a caveat. The pattern `(\\*)([^\\s]*?)(\\*)` (used earlier)\n",
    "fails to identify italics text with whitespace. On the other hand, pattern `\\*(?=\\S)(.+?)(?<=\\S)\\*` (currently used)\n",
    "fails for sentences like \"Block comments start with `/*` and end with `*/`. It matches the content \"*` and end with `*\"."
   ]
  },
  {
   "cell_type": "code",
   "execution_count": null,
   "metadata": {},
   "outputs": [],
   "source": [
    "# export\n",
    "# italics_regex: re.Pattern = re.compile(r\"(\\*)([^\\s]*?)(\\*)\")\n",
    "italics_regex: re.Pattern = re.compile(r\"\\*(?=\\S)(.+?)(?<=\\S)\\*\")\n",
    "bold_regex: re.Pattern = re.compile(r\"(\\*\\*)([^\\s]*?)(\\*\\*)\")\n",
    "header_regex: re.Pattern = re.compile(r\"(#+)\\s\")\n",
    "header_starts: tuple = (\"# \", \"## \", \"### \", \"#### \", \"##### \", \"###### \")\n",
    "code_start: str = \"```\"\n",
    "list_start: str = \"* \"\n",
    "s4: str = \" \" * 4\n",
    "indents: tuple = (\"\\t\", s4)\n",
    "quote_start: str = \"> \"\n",
    "img_start: str = \"![\"\n",
    "xcall_path: str = \"./libs/xcall.app/Contents/MacOS/xcall\""
   ]
  },
  {
   "cell_type": "markdown",
   "metadata": {},
   "source": [
    "The first step of the conversion is to convert the notebook to Markdown format using `nbconvert`. Usually used as\n",
    "command line tool, we use it as a regular Python package. Following `nbconvert`'s tutorial\n",
    "[Using nbconvert as a library](https://nbconvert.readthedocs.io/en/latest/nbconvert_library.html), we first load\n",
    "(`load_notebook`) the Jupyter notebook which is a JSON. We then use the `nbformat` package to parse the notebook\n",
    "(`parse_notebook`). This is followed by converting the notebook to Markdown (`convert_nb_to_markdown`) using the\n",
    "`MarkdownExporter` class. Finally, we capture the base64 representations of all images in the notebook in a list which\n",
    "is later used to reinsert the images after the rest of the notebook is formatted."
   ]
  },
  {
   "cell_type": "code",
   "execution_count": null,
   "metadata": {},
   "outputs": [],
   "source": [
    "# export\n",
    "def load_nb(nb_fn: str) -> str:\n",
    "    \"\"\"Read a Jupyter notebook.\"\"\"\n",
    "    return urlopen(f\"file://{nb_fn}\").read().decode()"
   ]
  },
  {
   "cell_type": "code",
   "execution_count": null,
   "metadata": {},
   "outputs": [],
   "source": [
    "# export\n",
    "def parse_nb(nb_contents: str) -> nbformat.notebooknode.NotebookNode:\n",
    "    \"\"\"Convert a Jupyter notebook to a dictionary-like format.\"\"\"\n",
    "    return nbformat.reads(nb_contents, as_version=4)"
   ]
  },
  {
   "cell_type": "code",
   "execution_count": null,
   "metadata": {},
   "outputs": [],
   "source": [
    "# export\n",
    "def convert_nb_to_markdown(nb_contents: nbformat.notebooknode.NotebookNode) -> list:\n",
    "    \"\"\"Convert a Jupyter notebook to Markdown.\"\"\"\n",
    "    md_exporter = MarkdownExporter()\n",
    "    nbc_out: str\n",
    "    nbc_out, _ = md_exporter.from_notebook_node(nb_contents)\n",
    "\n",
    "    return nbc_out.splitlines()"
   ]
  },
  {
   "cell_type": "code",
   "execution_count": null,
   "metadata": {},
   "outputs": [],
   "source": [
    "# export\n",
    "def get_nb_images(nb_contents: nbformat.notebooknode.NotebookNode) -> list:\n",
    "    \"\"\"Extract base64 representations of images in notebook.\"\"\"\n",
    "    nb_images: list = []\n",
    "    for nb_cell in nb_contents.cells:\n",
    "        if \"attachments\" not in nb_cell.keys():\n",
    "            continue\n",
    "        for _, attachment in nb_cell[\"attachments\"].items():\n",
    "            if \"image/png\" not in attachment.keys():\n",
    "                continue\n",
    "            img_base64: str = attachment[\"image/png\"]\n",
    "            nb_images.append(img_base64)\n",
    "\n",
    "    return nb_images"
   ]
  },
  {
   "cell_type": "code",
   "execution_count": null,
   "metadata": {},
   "outputs": [],
   "source": [
    "demo_nb_fp: str = os.path.abspath(\"../assets/demo.ipynb\")\n",
    "demo_nb_raw: str = load_nb(demo_nb_fp)\n",
    "demo_nb_parsed: nbformat.notebooknode.NotebookNode = parse_nb(demo_nb_raw)\n",
    "demo_md: list = convert_nb_to_markdown(demo_nb_parsed)"
   ]
  },
  {
   "cell_type": "code",
   "execution_count": null,
   "metadata": {},
   "outputs": [],
   "source": [
    "demo_nb_imgs: list = get_nb_images(demo_nb_parsed)"
   ]
  },
  {
   "cell_type": "markdown",
   "metadata": {},
   "source": [
    "## Formatting notebook contents"
   ]
  },
  {
   "cell_type": "markdown",
   "metadata": {},
   "source": [
    "Prior to version 2.0, the default markup syntax in Bear was the *Polar Bear Markup Language*. It is similar to\n",
    "the traditional Markdown syntax with two notable differences:\n",
    "* Italics text is placed between `/ /` instead of `* *`.\n",
    "* Bold text is placed between `* *` instead of `** **`.\n",
    "\n",
    "Identifying italics and bold text in Markdown is tricky. For example, bullets in Markdown can start with `*`. Also,\n",
    "regular text or code can contain `*` like `/* */` for comments in certain languages.\n",
    "\n",
    "So the regular expression we use do not allow for whitespace between `*` pairs. Thus, `*this*` will be a match but\n",
    "`*this won't*` be."
   ]
  },
  {
   "cell_type": "code",
   "execution_count": null,
   "metadata": {},
   "outputs": [],
   "source": [
    "# export\n",
    "def convert_to_pb_markup(line: str) -> str:\n",
    "    \"\"\"Transform specific Markdown syntax to compatible Polar Bear markup.\"\"\"\n",
    "    line = italics_regex.sub(r\"/\\1/\", line)\n",
    "    line = bold_regex.sub(r\"\\*\\1\\*\", line)\n",
    "\n",
    "    return line"
   ]
  },
  {
   "cell_type": "code",
   "execution_count": null,
   "metadata": {},
   "outputs": [],
   "source": [
    "italics_ex_1: str = \"* *Receiver Functions* are associated with a specific type.\"\n",
    "test_eq(convert_to_pb_markup(italics_ex_1), \"* /Receiver Functions/ are associated with a specific type.\")\n",
    "\n",
    "italics_ex_2: str = \"* Go is a *statically-typed* language.\"\n",
    "test_eq(convert_to_pb_markup(italics_ex_2), \"* Go is a /statically-typed/ language.\")"
   ]
  },
  {
   "cell_type": "markdown",
   "metadata": {},
   "source": [
    "The Markdown content is processed and format line by line as the contents of the previous line inform decisions in\n",
    "the current line. The first line, which is assumed to be the title of the document, is copied as is. For subsequent\n",
    "lines, checks and modifications include:\n",
    "* Skip the line if empty.\n",
    "* For header lines, add an empty line above if the previous line is neither empty, nor a quoted line.\n",
    "* If the line is indented:\n",
    "    * Add a `> ` at the beginning if the previous line starts with `> `.\n",
    "    * Add a `> ` at the beginning, and an empty line before it if the previous line is the end of a code block.\n",
    "* In the exported Markdown, indentations are represented as a collection of whitespaces. We convert them to tabs (`\\t`)\n",
    "so that they are rendered correctly in Bear.\n",
    "* If the previous line starts with `> ` but not the current line (thus marking the end of code block output), add an\n",
    "empty line."
   ]
  },
  {
   "cell_type": "code",
   "execution_count": null,
   "metadata": {},
   "outputs": [],
   "source": [
    "# export\n",
    "def are_empty(lines: list) -> bool:\n",
    "    return all([(not x) for x in lines])\n",
    "\n",
    "def is_header(line: str) -> bool:\n",
    "    return bool(re.match(header_regex, line))\n",
    "\n",
    "def is_indented(line: str) -> bool:\n",
    "    return line.startswith(indents)\n",
    "\n",
    "def is_code_marker(line: str) -> bool:\n",
    "    return line.startswith(code_start)\n",
    "\n",
    "def is_empty_line_after_header(line, last_line) -> bool:\n",
    "    return is_header(last_line) and (not line)\n",
    "\n",
    "def quote_if_code_output(line, last_two_lines) -> str:\n",
    "    if (not last_two_lines[-1]) and is_code_marker(last_two_lines[-2]):\n",
    "        return f\"> {line}\"\n",
    "    else:\n",
    "        return line"
   ]
  },
  {
   "cell_type": "code",
   "execution_count": null,
   "metadata": {},
   "outputs": [],
   "source": [
    "# export\n",
    "def format_markdown(contents: list) -> str:\n",
    "    \"\"\"Format Jupyter exported Markdown to Bear-compatible format.\"\"\"\n",
    "    formatted_contents: list = [contents[0]]\n",
    "    line: str\n",
    "    for line in contents[1:]:\n",
    "        last_line: str = formatted_contents[-1]\n",
    "        last_two_lines: list = formatted_contents[-2:]\n",
    "\n",
    "        # Skip more than one empty line.\n",
    "        if are_empty([line, last_line]): continue\n",
    "        if is_empty_line_after_header(line, last_line): continue\n",
    "\n",
    "        if is_indented(line):\n",
    "            line = quote_if_code_output(line, last_two_lines)\n",
    "\n",
    "        line = convert_to_pb_markup(line)\n",
    "        formatted_contents.append(line)\n",
    "\n",
    "    return \"\\n\".join(formatted_contents)"
   ]
  },
  {
   "cell_type": "code",
   "execution_count": null,
   "metadata": {},
   "outputs": [],
   "source": [
    "demo_formatted_md: str = format_markdown(demo_md)"
   ]
  },
  {
   "cell_type": "markdown",
   "metadata": {},
   "source": [
    "## Converting to HTML"
   ]
  },
  {
   "cell_type": "markdown",
   "metadata": {},
   "source": [
    "*Note: Embedded images in a notebook cannot be automatically added to a Bear page currently. Bear developers might\n",
    "support this feature at a later date. Till then, we need to manually copy all our images from the notebook to Bear.*\n",
    "\n",
    "When the notebook contains embedded images and we wish them to be automatically integrated in a Bear note, we need to\n",
    "convert the Markdown contents to HTML (`convert_md_to_html`). Then, the images extracted previously are put back in\n",
    "their respective positions (`embed_images`).\n",
    "\n",
    "There are differences in how Bear imports HTML and Markdown content. They include:\n",
    "* Imported HTML contains lots of whitespace. \n",
    "* Images cannot be embedded using Markdown text.\n",
    "\n",
    "An image can be imported into Bear using a JPEG/PNG file or a base64 representation. As Mac apps are sandboxed, Bear\n",
    "cannot get access to locations on the hard drive where the image files might be stored. And the `/create` action of\n",
    "Bear's API which is used to create the note does not support images in base64 format. Bear developers might add this\n",
    "support at a later date. To follow up on the development, check the reddit thread\n",
    "[Embed images in a note using x-callback](https://www.reddit.com/r/bearapp/comments/l36uw3/embed_images_in_a_note_using_xcallback/gkxnx7r/?context=3)."
   ]
  },
  {
   "cell_type": "code",
   "execution_count": null,
   "metadata": {},
   "outputs": [],
   "source": [
    "# export\n",
    "def convert_markdown_to_html(contents: list) -> str:\n",
    "    \"\"\"Wrap markdown text in HTML tags.\"\"\"\n",
    "    md: str = \"\\n\".join(contents)\n",
    "    return markdown2.markdown(md, extras=[\"fenced-code-blocks\", \"cuddled-lists\"])"
   ]
  },
  {
   "cell_type": "code",
   "execution_count": null,
   "metadata": {},
   "outputs": [],
   "source": [
    "# export\n",
    "def add_images_to_html(html: str, imgs: list) -> str:\n",
    "    \"\"\"Embed images in base64 representation. (Currently not supported by Bear)\"\"\"\n",
    "    html_soup: BeautifulSoup = BeautifulSoup(html)\n",
    "    for i, img in enumerate(html_soup.findAll(\"img\")):\n",
    "        img[\"src\"] = f\"data:image/png;base64, {imgs[i]}\"\n",
    "\n",
    "    return str(html_soup)"
   ]
  },
  {
   "cell_type": "code",
   "execution_count": null,
   "metadata": {},
   "outputs": [],
   "source": [
    "demo_formatted_html: str = convert_markdown_to_html(demo_formatted_md)\n",
    "demo_html_with_images: str = add_images_to_html(demo_formatted_html, demo_nb_imgs)"
   ]
  },
  {
   "cell_type": "markdown",
   "metadata": {},
   "source": [
    "## Add to Bear"
   ]
  },
  {
   "cell_type": "markdown",
   "metadata": {},
   "source": [
    "If we add our notebooks to Bear incrementally, it makes sense to delete (i.e. move to *Trash*) the existing note. We\n",
    "currently delete an existing note if its title exactly matches the title of the notebook. Thus, based on whether the\n",
    "content sent to Bear is Markdown or HTML, we first get its title (`get_nb_title`)."
   ]
  },
  {
   "cell_type": "code",
   "execution_count": null,
   "metadata": {},
   "outputs": [],
   "source": [
    "# export\n",
    "def get_nb_title(text: str) -> str:\n",
    "    \"\"\"Get note title.\"\"\"\n",
    "    heading: Union[bs4.element.Tag, None] = BeautifulSoup(text, \"html.parser\").h1\n",
    "    if heading is None:\n",
    "        # Content is markdown, assume the first line to be the heading.\n",
    "        return re.sub(header_regex, \"\", text.splitlines()[0])\n",
    "    else:\n",
    "        return heading.string"
   ]
  },
  {
   "cell_type": "code",
   "execution_count": null,
   "metadata": {},
   "outputs": [],
   "source": [
    "test_eq(get_nb_title(demo_formatted_md), \"Demo\")\n",
    "test_eq(get_nb_title(demo_formatted_html), \"Demo\")"
   ]
  },
  {
   "cell_type": "code",
   "execution_count": null,
   "metadata": {},
   "outputs": [],
   "source": [
    "go_fundamentals_title: str = get_nb_title(demo_formatted_md)"
   ]
  },
  {
   "cell_type": "code",
   "execution_count": null,
   "metadata": {},
   "outputs": [],
   "source": [
    "# export\n",
    "def trash_existing_note(title: str, api_token: str):\n",
    "    \"\"\"Delete an existing note with the same title to avoid duplicates.\"\"\"\n",
    "    search_output: dict = json.loads(os.popen(f\"{xcall_path} -url 'bear://x-callback-url/search?term={quote(title)}\"\n",
    "                                              f\"&show_window=no&token={api_token}'\").read())\n",
    "    current_notes: list = json.loads(search_output[\"notes\"])\n",
    "    note: dict\n",
    "    for note in current_notes:\n",
    "        if note[\"title\"] == title:\n",
    "            note_id: str = note[\"identifier\"]\n",
    "            os.popen(f\"{xcall_path} -url 'bear://x-callback-url/trash?show_window=no&id={note_id}'\")"
   ]
  },
  {
   "cell_type": "markdown",
   "metadata": {},
   "source": [
    "A note can be added to Bear using the `x-callback-url` API. To the `/create` action of this API, we supply the body\n",
    "of the note (as the `text` argument) with the contents 'quoted' i.e. special characters except `_.-~` replaced with\n",
    "`%xx` escapes. For instance, whitespace is replaced by `%20`. \n",
    "\n",
    "If we prefer whitespaces in our note, the value for mode should be `comfortable`. In this case, the (formatted) HTML version of the notebook is sent to Bear with the right parameters (`type=html&url=`). The default mode is `compact` which retains just enough whitespace to keep the note content legible."
   ]
  },
  {
   "cell_type": "code",
   "execution_count": null,
   "metadata": {},
   "outputs": [],
   "source": [
    "# export\n",
    "def add_to_bear(text: str, api_token: str, layout: str = \"compact\"):\n",
    "    \"\"\"Create a new Bear note.\"\"\"\n",
    "    title: str = get_nb_title(text)\n",
    "    trash_existing_note(title, api_token)\n",
    "    if layout == \"comfortable\":\n",
    "        os.system(f\"{xcall_path} -url 'bear://x-callback-url/create?type=html&url=&text={quote(text)}'\")\n",
    "    else:\n",
    "        os.system(f\"{xcall_path} -url 'bear://x-callback-url/create?text={quote(text)}'\")"
   ]
  },
  {
   "cell_type": "code",
   "execution_count": null,
   "metadata": {},
   "outputs": [],
   "source": [
    "bear_api_token: str = \"D11B63-D71E64-DE9400\""
   ]
  },
  {
   "cell_type": "code",
   "execution_count": null,
   "metadata": {},
   "outputs": [],
   "source": [
    "add_to_bear(demo_formatted_md, bear_api_token)"
   ]
  },
  {
   "cell_type": "markdown",
   "metadata": {},
   "source": [
    "## Running in console"
   ]
  },
  {
   "cell_type": "markdown",
   "metadata": {},
   "source": [
    "If running `nb2bear` in a Python console, the function `convert_nb_to_bear` does the job. Path to the Jupyter notebook and Bear token are the two mandatory arguments."
   ]
  },
  {
   "cell_type": "code",
   "execution_count": null,
   "metadata": {},
   "outputs": [],
   "source": [
    "# export\n",
    "def convert_nb_to_bear(nb_fn: str, api_token: str, layout: str = \"compact\"):\n",
    "    \"\"\"Convert a Jupyter notebook to a Bear page.\"\"\"\n",
    "    nb_raw: str = load_nb(nb_fn)\n",
    "    nb_parsed: nbformat.notebooknode.NotebookNode = parse_nb(nb_raw)\n",
    "    md_text: list = convert_nb_to_markdown(nb_parsed)\n",
    "    if layout == \"comfortable\":\n",
    "        nb_imgs: list = get_nb_images(nb_parsed)\n",
    "        formatted_html: str = convert_markdown_to_html(md_text)\n",
    "        html_with_images: str = add_images_to_html(formatted_html, nb_imgs)\n",
    "        add_to_bear(html_with_images, api_token, layout)\n",
    "    else:\n",
    "        formatted_md: str = format_markdown(md_text)\n",
    "        add_to_bear(formatted_md, api_token)"
   ]
  },
  {
   "cell_type": "code",
   "execution_count": null,
   "metadata": {},
   "outputs": [],
   "source": [
    "# convert_nb_to_bear(demo_nb_fp, bear_api_token)\n",
    "convert_nb_to_bear(demo_nb_fp, bear_api_token, \"comfortable\")"
   ]
  },
  {
   "cell_type": "markdown",
   "metadata": {},
   "source": [
    "The optional argument `layout` has two options - `compact` (default) and `comfortable`. The following screenshots show the difference between `compact` and `comfortable` layout.\n",
    "\n",
    "Compact layout|Comfortable layout\n",
    "-|-\n",
    "![compact](images/compact.png)|![comfortable](images/comfortable.png)"
   ]
  },
  {
   "cell_type": "markdown",
   "metadata": {},
   "source": [
    "## Command line interface\n",
    "\n",
    "We can also run `nb2bear` directly from the command line using the `nb2br` command. Like running from the console, `nb2br` accepts three arguments - path to Jupyter notebook, Bear token, and layout of content in the Bear note. The layout argument is optional with `compact` as the default value. To know more about the arguments to `nb2br`, run `nb2br --help`."
   ]
  },
  {
   "cell_type": "code",
   "execution_count": null,
   "metadata": {},
   "outputs": [],
   "source": [
    "# export\n",
    "def run_nb2bear():\n",
    "    ap = argparse.ArgumentParser()\n",
    "    ap.add_argument(\"-f\", \"--file\", required=True, help=\"Path to Jupyter notebook\")\n",
    "    ap.add_argument(\"-t\", \"--token\", required=True, help=\"Bear token\")\n",
    "    ap.add_argument(\"-l\", \"--layout\", default=\"compact\", const=\"compact\", nargs=\"?\", choices=(\"compact\", \"comfortable\"),\n",
    "                    help=\"Layout of Bear note\")\n",
    "    args = vars(ap.parse_args())\n",
    "    convert_nb_to_bear(args[\"file\"], args[\"token\"], args[\"layout\"])"
   ]
  },
  {
   "cell_type": "code",
   "execution_count": null,
   "metadata": {},
   "outputs": [],
   "source": [
    "# export\n",
    "if __name__ == \"__main__\":\n",
    "    run_nb2bear()\n"
   ]
  },
  {
   "cell_type": "code",
   "execution_count": null,
   "metadata": {},
   "outputs": [],
   "source": [
    "!nb2br -f \"assets/demo.ipynb\" -t <bear_token>"
   ]
  },
  {
   "cell_type": "code",
   "execution_count": null,
   "metadata": {},
   "outputs": [
    {
     "name": "stdout",
     "output_type": "stream",
     "text": [
      "Converted 00_nb2bear.ipynb.\n",
      "Converted index.ipynb.\n"
     ]
    }
   ],
   "source": [
    "from nbdev.export import notebook2script\n",
    "notebook2script()"
   ]
  },
  {
   "cell_type": "code",
   "execution_count": null,
   "metadata": {},
   "outputs": [],
   "source": []
  }
 ],
 "metadata": {
  "kernelspec": {
   "display_name": "Python 3",
   "language": "python",
   "name": "python3"
  }
 },
 "nbformat": 4,
 "nbformat_minor": 2
}
