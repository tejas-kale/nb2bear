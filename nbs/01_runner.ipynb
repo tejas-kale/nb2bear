{
 "cells": [
  {
   "cell_type": "code",
   "execution_count": null,
   "metadata": {},
   "outputs": [],
   "source": [
    "# default_exp runner"
   ]
  },
  {
   "cell_type": "code",
   "execution_count": null,
   "metadata": {},
   "outputs": [],
   "source": [
    "# export\n",
    "from nb2bear.nb2bear import convert_nb_to_bear\n",
    "\n",
    "import argparse"
   ]
  },
  {
   "cell_type": "code",
   "execution_count": null,
   "metadata": {},
   "outputs": [],
   "source": [
    "# export\n",
    "def run_nb2bear():\n",
    "    ap = argparse.ArgumentParser()\n",
    "    ap.add_argument(\"-f\", \"--file\", required=True, help=\"Path to Jupyter notebook\")\n",
    "    ap.add_argument(\"-t\", \"--token\", required=True, help=\"Bear token\")\n",
    "    ap.add_argument(\"-l\", \"--layout\", default=\"compact\", const=\"compact\", nargs=\"?\", choices=(\"compact\", \"comfortable\"),\n",
    "                    help=\"Layout of Bear note\")\n",
    "    args = vars(ap.parse_args())\n",
    "    convert_nb_to_bear(args[\"file\"], args[\"token\"], args[\"layout\"])"
   ]
  },
  {
   "cell_type": "code",
   "execution_count": null,
   "metadata": {},
   "outputs": [],
   "source": [
    "# export\n",
    "if __name__ == \"__main__\":\n",
    "    run_nb2bear()"
   ]
  },
  {
   "cell_type": "code",
   "execution_count": null,
   "metadata": {},
   "outputs": [],
   "source": [
    "from nbdev.export import notebook2script\n",
    "notebook2script()\n"
   ]
  }
 ],
 "metadata": {
  "kernelspec": {
   "display_name": "Python 3",
   "language": "python",
   "name": "python3"
  }
 },
 "nbformat": 4,
 "nbformat_minor": 0
}
